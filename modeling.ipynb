{
 "cells": [
  {
   "cell_type": "code",
   "execution_count": 1,
   "metadata": {},
   "outputs": [],
   "source": [
    "# Imports\n",
    "\n",
    "import numpy as np\n",
    "import pandas as pd\n",
    "from scipy import stats\n",
    "import sklearn.preprocessing as p\n",
    "from sklearn.model_selection import train_test_split\n",
    "import matplotlib.pyplot as plt\n",
    "\n",
    "\n",
    "import warnings\n",
    "warnings.filterwarnings(\"ignore\")\n",
    "import env\n",
    "import prepare_regression_2 as pr\n",
    "import wrangle_2 as w\n",
    "# import explore_2 as e\n",
    "\n",
    "from sklearn.metrics import mean_squared_error\n",
    "from sklearn.preprocessing import MinMaxScaler\n",
    "from sklearn.linear_model import TweedieRegressor\n",
    "\n",
    "%matplotlib inline"
   ]
  },
  {
   "attachments": {},
   "cell_type": "markdown",
   "metadata": {},
   "source": [
    "Do your work for this exercise in a jupyter notebook named modeling within the regression-exercises repo. Add, commit, and push your work.\n",
    "\n",
    "Select a dataset with a continuous target variable."
   ]
  },
  {
   "cell_type": "code",
   "execution_count": 2,
   "metadata": {},
   "outputs": [],
   "source": [
    "def sql_zillow_data():\n",
    "    sql_query = \"\"\"\n",
    "                select prop.parcelid as parcel_id, prop.id as property_id, prop.bathroomcnt, prop.bedroomcnt, prop.regionidzip, prop.yearbuilt, prop.calculatedfinishedsquarefeet, prop.fips, prop.taxvaluedollarcnt\n",
    "                from predictions_2017 as pred\n",
    "                join properties_2017 as prop \n",
    "                on pred.parcelid = prop.parcelid\n",
    "                where transactiondate is not null and\n",
    "                propertylandusetypeid = 261 and\n",
    "                regionidzip is not null and\n",
    "                yearbuilt is not null and\n",
    "                calculatedfinishedsquarefeet is not null and\n",
    "                prop.taxvaluedollarcnt is not null;\n",
    "                \"\"\"\n",
    "    df = pd.read_sql(sql_query, env.get_connection('zillow'))\n",
    "    return df\n"
   ]
  },
  {
   "cell_type": "code",
   "execution_count": 3,
   "metadata": {},
   "outputs": [],
   "source": [
    "df = sql_zillow_data()"
   ]
  },
  {
   "cell_type": "code",
   "execution_count": 4,
   "metadata": {},
   "outputs": [],
   "source": [
    "def prep_zillow(df):\n",
    "\n",
    "    df = df.rename(columns={'bedroomcnt':'bedrooms', \n",
    "                          'bathroomcnt':'bathrooms',\n",
    "                          'yearbuilt':'year_built',\n",
    "                          'regionidzip': 'zip_code',\n",
    "                          'calculatedfinishedsquarefeet':'total_sqft',\n",
    "                          'fips': 'county',\n",
    "                          'taxvaluedollarcnt': 'tax_value'\n",
    "                          })\n",
    "\n",
    "    df = df[df.bathrooms <= 8]\n",
    "    df = df[df.bathrooms >= 1]\n",
    "    df = df[df.bedrooms <= 8]\n",
    "    df = df[df.bedrooms >= 2]\n",
    "    df = df[df.zip_code < 399675]\n",
    "    df.zip_code = df.zip_code.convert_dtypes(int)\n",
    "    df.total_sqft = df.total_sqft.convert_dtypes(int)\n",
    "    df.bedrooms = df.bedrooms.convert_dtypes(int)\n",
    "    df.year_built = df.year_built.convert_dtypes(int)\n",
    "    df.county = df.county.replace(6059.0,'Orange').replace(6037.0,'Los_Angeles').replace(6111.0,'Ventura')\n",
    "    \n",
    "\n",
    "    #df = df[df.sqft < 10000]\n",
    "\n",
    "    #df = df.dropna()\n",
    "    df.drop_duplicates(inplace=True)\n",
    "    \n",
    "    train_validate, test = train_test_split(df, test_size=.2, random_state=123)\n",
    "    train, validate = train_test_split(train_validate, test_size=.3, random_state=123)\n",
    "    \n",
    "    return train, validate, test\n"
   ]
  },
  {
   "cell_type": "code",
   "execution_count": 5,
   "metadata": {},
   "outputs": [],
   "source": [
    "train, validate, test = prep_zillow(df)"
   ]
  },
  {
   "cell_type": "code",
   "execution_count": 6,
   "metadata": {},
   "outputs": [
    {
     "data": {
      "text/plain": [
       "((28817, 9), (12351, 9), (10292, 9))"
      ]
     },
     "execution_count": 6,
     "metadata": {},
     "output_type": "execute_result"
    }
   ],
   "source": [
    "train.shape, validate.shape, test.shape"
   ]
  },
  {
   "attachments": {},
   "cell_type": "markdown",
   "metadata": {},
   "source": [
    "Be sure your data is prepared (no missing values, numeric datatypes) and split into samples.\n",
    "\n",
    "Work through all of the steps outlined in the lesson, from setting the baseline to selected a model and evaluating the final model on your test data."
   ]
  },
  {
   "cell_type": "code",
   "execution_count": 7,
   "metadata": {},
   "outputs": [
    {
     "name": "stdout",
     "output_type": "stream",
     "text": [
      "<class 'pandas.core.frame.DataFrame'>\n",
      "Int64Index: 28817 entries, 31793 to 25682\n",
      "Data columns (total 9 columns):\n",
      " #   Column       Non-Null Count  Dtype  \n",
      "---  ------       --------------  -----  \n",
      " 0   parcel_id    28817 non-null  int64  \n",
      " 1   property_id  28817 non-null  int64  \n",
      " 2   bathrooms    28817 non-null  float64\n",
      " 3   bedrooms     28817 non-null  Int64  \n",
      " 4   zip_code     28817 non-null  Int64  \n",
      " 5   year_built   28817 non-null  Int64  \n",
      " 6   total_sqft   28817 non-null  Int64  \n",
      " 7   county       28817 non-null  object \n",
      " 8   tax_value    28817 non-null  float64\n",
      "dtypes: Int64(4), float64(2), int64(2), object(1)\n",
      "memory usage: 2.3+ MB\n"
     ]
    }
   ],
   "source": [
    "train.info()"
   ]
  },
  {
   "cell_type": "code",
   "execution_count": 8,
   "metadata": {},
   "outputs": [
    {
     "data": {
      "text/plain": [
       "parcel_id      28817\n",
       "property_id    28817\n",
       "bathrooms      28817\n",
       "bedrooms       28817\n",
       "zip_code       28817\n",
       "year_built     28817\n",
       "total_sqft     28817\n",
       "county         28817\n",
       "tax_value      28817\n",
       "dtype: int64"
      ]
     },
     "execution_count": 8,
     "metadata": {},
     "output_type": "execute_result"
    }
   ],
   "source": [
    "train.isna().count()"
   ]
  },
  {
   "cell_type": "code",
   "execution_count": 9,
   "metadata": {},
   "outputs": [],
   "source": [
    "def county_dummies_all(train_1, validate_1, test_1):\n",
    "    train_1, validate_1, test_1 = prep_zillow(df)\n",
    "    train_1_encoded = pd.get_dummies(train_1['county'], drop_first=False)  \n",
    "    train_1_encoded = train_1.merge(train_1_encoded, left_index=True, right_index=True)\n",
    "    train_1_encoded = train_1_encoded.drop(columns= 'county')\n",
    "\n",
    "    validate_1_encoded = pd.get_dummies(validate_1['county'], drop_first=False)  \n",
    "    validate_1_encoded = validate_1.merge(validate_1_encoded, left_index=True, right_index=True)\n",
    "    validate_1_encoded = validate_1_encoded.drop(columns= 'county')\n",
    "\n",
    "    test_1_encoded = pd.get_dummies(test_1['county'], drop_first=False)  \n",
    "    test_1_encoded = test_1.merge(test_1_encoded, left_index=True, right_index=True)\n",
    "    test_1_encoded = test_1_encoded.drop(columns= 'county')\n",
    "\n",
    "    return train_1_encoded, validate_1_encoded, test_1_encoded"
   ]
  },
  {
   "cell_type": "code",
   "execution_count": 10,
   "metadata": {},
   "outputs": [],
   "source": [
    "def model_prep(df1, df2, df3):\n",
    "    df1, df2, df3 = county_dummies_all(df1, df2, df3)\n",
    "    df1 = df1.drop(columns= ['parcel_id', 'property_id', 'zip_code'])\n",
    "    df2 = df2.drop(columns= ['parcel_id', 'property_id', 'zip_code'])\n",
    "    df3 = df3.drop(columns= ['parcel_id', 'property_id', 'zip_code'])\n",
    "    return df1, df2, df3"
   ]
  },
  {
   "cell_type": "code",
   "execution_count": 11,
   "metadata": {},
   "outputs": [],
   "source": [
    "def X_train_y_train_split(df):\n",
    "    X_train = df.drop(columns = 'tax_value')\n",
    "    y_train = df.drop(columns = ['bathrooms' , 'bedrooms' , 'year_built' , 'total_sqft' , 'Los_Angeles' , 'Orange' , 'Ventura'])\n",
    "    return X_train, y_train"
   ]
  },
  {
   "cell_type": "code",
   "execution_count": 12,
   "metadata": {},
   "outputs": [],
   "source": [
    "train, validate, test = model_prep(train, validate, test)\n",
    "\n",
    "X_train, y_train = X_train_y_train_split(train)\n",
    "X_validate, y_validate = X_train_y_train_split(validate)\n",
    "X_test, y_test = X_train_y_train_split(test)"
   ]
  },
  {
   "cell_type": "code",
   "execution_count": 13,
   "metadata": {},
   "outputs": [
    {
     "data": {
      "text/plain": [
       "(28817, 7)"
      ]
     },
     "execution_count": 13,
     "metadata": {},
     "output_type": "execute_result"
    }
   ],
   "source": [
    "X_train.shape"
   ]
  },
  {
   "cell_type": "code",
   "execution_count": 14,
   "metadata": {},
   "outputs": [
    {
     "data": {
      "text/html": [
       "<div>\n",
       "<style scoped>\n",
       "    .dataframe tbody tr th:only-of-type {\n",
       "        vertical-align: middle;\n",
       "    }\n",
       "\n",
       "    .dataframe tbody tr th {\n",
       "        vertical-align: top;\n",
       "    }\n",
       "\n",
       "    .dataframe thead th {\n",
       "        text-align: right;\n",
       "    }\n",
       "</style>\n",
       "<table border=\"1\" class=\"dataframe\">\n",
       "  <thead>\n",
       "    <tr style=\"text-align: right;\">\n",
       "      <th></th>\n",
       "      <th>bathrooms</th>\n",
       "      <th>bedrooms</th>\n",
       "      <th>year_built</th>\n",
       "      <th>total_sqft</th>\n",
       "      <th>Los_Angeles</th>\n",
       "      <th>Orange</th>\n",
       "      <th>Ventura</th>\n",
       "    </tr>\n",
       "  </thead>\n",
       "  <tbody>\n",
       "    <tr>\n",
       "      <th>31793</th>\n",
       "      <td>3.0</td>\n",
       "      <td>4</td>\n",
       "      <td>1978</td>\n",
       "      <td>2322</td>\n",
       "      <td>1</td>\n",
       "      <td>0</td>\n",
       "      <td>0</td>\n",
       "    </tr>\n",
       "    <tr>\n",
       "      <th>52132</th>\n",
       "      <td>3.0</td>\n",
       "      <td>4</td>\n",
       "      <td>2007</td>\n",
       "      <td>3537</td>\n",
       "      <td>1</td>\n",
       "      <td>0</td>\n",
       "      <td>0</td>\n",
       "    </tr>\n",
       "    <tr>\n",
       "      <th>36759</th>\n",
       "      <td>2.0</td>\n",
       "      <td>4</td>\n",
       "      <td>1964</td>\n",
       "      <td>1326</td>\n",
       "      <td>1</td>\n",
       "      <td>0</td>\n",
       "      <td>0</td>\n",
       "    </tr>\n",
       "    <tr>\n",
       "      <th>27845</th>\n",
       "      <td>3.0</td>\n",
       "      <td>4</td>\n",
       "      <td>1937</td>\n",
       "      <td>1774</td>\n",
       "      <td>1</td>\n",
       "      <td>0</td>\n",
       "      <td>0</td>\n",
       "    </tr>\n",
       "    <tr>\n",
       "      <th>10940</th>\n",
       "      <td>2.0</td>\n",
       "      <td>4</td>\n",
       "      <td>1953</td>\n",
       "      <td>1795</td>\n",
       "      <td>0</td>\n",
       "      <td>1</td>\n",
       "      <td>0</td>\n",
       "    </tr>\n",
       "  </tbody>\n",
       "</table>\n",
       "</div>"
      ],
      "text/plain": [
       "       bathrooms  bedrooms  year_built  total_sqft  Los_Angeles  Orange  \\\n",
       "31793        3.0         4        1978        2322            1       0   \n",
       "52132        3.0         4        2007        3537            1       0   \n",
       "36759        2.0         4        1964        1326            1       0   \n",
       "27845        3.0         4        1937        1774            1       0   \n",
       "10940        2.0         4        1953        1795            0       1   \n",
       "\n",
       "       Ventura  \n",
       "31793        0  \n",
       "52132        0  \n",
       "36759        0  \n",
       "27845        0  \n",
       "10940        0  "
      ]
     },
     "execution_count": 14,
     "metadata": {},
     "output_type": "execute_result"
    }
   ],
   "source": [
    "X_train.head()"
   ]
  },
  {
   "attachments": {},
   "cell_type": "markdown",
   "metadata": {},
   "source": [
    "Now scale the data"
   ]
  },
  {
   "cell_type": "code",
   "execution_count": 15,
   "metadata": {},
   "outputs": [],
   "source": [
    "#minmaxscaler\n",
    "def scale_zillow(train, validate, test):\n",
    "\n",
    "    train_1 = train.copy()\n",
    "    validate_1 = validate.copy()\n",
    "    test_1 = test.copy()\n",
    "\n",
    "    scale_cols = ['bedrooms', 'bathrooms', 'total_sqft', 'year_built']\n",
    "    minmax_scaler = p.MinMaxScaler()\n",
    "    minmax_scaler.fit(train_1[scale_cols])\n",
    "\n",
    "    train_1[scale_cols] = minmax_scaler.transform(train[scale_cols])\n",
    "    validate_1[scale_cols] = minmax_scaler.transform(validate[scale_cols])\n",
    "    test_1[scale_cols] = minmax_scaler.transform(test[scale_cols])\n",
    "\n",
    "    df_train_1 = pd.DataFrame(train_1).set_index([train_1.index.values])\n",
    "    df_validate_1 = pd.DataFrame(validate_1).set_index([validate_1.index.values])\n",
    "    df_test_1 = pd.DataFrame(test_1).set_index([test_1.index.values])\n",
    "\n",
    "    return df_train_1, df_validate_1, df_test_1"
   ]
  },
  {
   "cell_type": "code",
   "execution_count": 16,
   "metadata": {},
   "outputs": [],
   "source": [
    "#setting baseline variables\n",
    "\n",
    "y_train['value_pred_mean'] = 527866.30\n",
    "y_validate['value_pred_mean'] = 527866.30\n",
    "\n",
    "y_train['value_pred_median'] = 376866.00\n",
    "y_validate['value_pred_median'] = 376866.00"
   ]
  },
  {
   "cell_type": "code",
   "execution_count": 17,
   "metadata": {},
   "outputs": [],
   "source": [
    "#defining root mean square error\n",
    "def rmse(y_true, y_pred):\n",
    "    mse = mean_squared_error(y_true, y_pred)\n",
    "    rmse = np.sqrt(mse)\n",
    "    return rmse"
   ]
  },
  {
   "cell_type": "code",
   "execution_count": 18,
   "metadata": {},
   "outputs": [],
   "source": [
    "def GLM(power, alpha):\n",
    "    # create the model object\n",
    "    glm = TweedieRegressor(power=power, alpha=alpha)\n",
    "\n",
    "    # fit the model to our training data. We must specify the column in y_train, \n",
    "    # since we have converted it to a dataframe from a series! \n",
    "    glm.fit(X_train, y_train.tax_value)\n",
    "\n",
    "    # predict train\n",
    "    y_train['value_pred_lm'] = glm.predict(X_train)\n",
    "\n",
    "    # evaluate: rmse\n",
    "    rmse_train = rmse(y_train.tax_value, y_train.value_pred_mean)\n",
    "\n",
    "    # predict validate\n",
    "    y_validate['value_pred_lm'] = glm.predict(X_validate)\n",
    "\n",
    "    # evaluate: rmse\n",
    "    rmse_validate = rmse(y_validate.tax_value, y_validate.value_pred_median)\n",
    "\n",
    "    return print(\"RMSE for GLM using TweedieRegressor\\nTraining/In-Sample: \", round(rmse_train), \n",
    "      \"\\nValidation/Out-of-Sample: \", round(rmse_validate))\n",
    "\n",
    "\n",
    "    "
   ]
  },
  {
   "cell_type": "code",
   "execution_count": 19,
   "metadata": {},
   "outputs": [
    {
     "name": "stdout",
     "output_type": "stream",
     "text": [
      "RMSE for GLM using TweedieRegressor\n",
      "Training/In-Sample:  712593 \n",
      "Validation/Out-of-Sample:  650380\n"
     ]
    }
   ],
   "source": [
    "GLM(1,0)"
   ]
  },
  {
   "cell_type": "code",
   "execution_count": null,
   "metadata": {},
   "outputs": [],
   "source": []
  }
 ],
 "metadata": {
  "kernelspec": {
   "display_name": "base",
   "language": "python",
   "name": "python3"
  },
  "language_info": {
   "codemirror_mode": {
    "name": "ipython",
    "version": 3
   },
   "file_extension": ".py",
   "mimetype": "text/x-python",
   "name": "python",
   "nbconvert_exporter": "python",
   "pygments_lexer": "ipython3",
   "version": "3.9.13"
  },
  "orig_nbformat": 4,
  "vscode": {
   "interpreter": {
    "hash": "38cca0c38332a56087b24af0bc80247f4fced29cb4f7f437d91dc159adec9c4e"
   }
  }
 },
 "nbformat": 4,
 "nbformat_minor": 2
}
