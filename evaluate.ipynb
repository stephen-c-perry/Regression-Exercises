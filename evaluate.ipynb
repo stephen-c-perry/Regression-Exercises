{
 "cells": [
  {
   "attachments": {},
   "cell_type": "markdown",
   "metadata": {},
   "source": [
    "Our Zillow scenario continues:\n",
    "\n",
    "\n",
    "As a Codeup data science graduate, you want to show off your skills to the Zillow data science team in hopes of getting an interview for a position you saw pop up on LinkedIn. You thought it might look impressive to build an end-to-end project in which you use some of their Kaggle data to predict property values using some of their available features; who knows, you might even do some feature engineering to blow them away. Your goal is to predict the values of single unit properties using the observations from 2017.\n",
    "\n",
    "\n",
    "In these exercises, you will run through the stages of exploration as you continue to work toward the above goal.\n",
    "\n",
    "\n",
    "1) As with encoded vs. unencoded data, we recommend exploring un-scaled data in your EDA process.\n",
    "\n",
    "2) Make sure to perform a train, validate, test split before and use only your train dataset to explore the relationships between independent variables with other independent variables or independent variables with your target variable.\n",
    "\n",
    "3) Write a function named plot_variable_pairs that accepts a dataframe as input and plots all of the pairwise relationships along with the regression line for each pair.\n",
    "\n",
    "4) Write a function named plot_categorical_and_continuous_vars that accepts your dataframe and the name of the columns that hold the continuous and categorical features and outputs 3 different plots for visualizing a categorical variable and a continuous variable.\n",
    "\n",
    "5) Save the functions you have written to create visualizations in your explore.py file. Rewrite your notebook code so that you are using the functions imported from this file.\n",
    "\n",
    "6) Use the functions you created above to explore your Zillow train dataset in your explore.ipynb notebook.\n",
    "\n",
    "7) Come up with some initial hypotheses based on your goal of predicting property value.\n",
    "\n",
    "8) Visualize all combinations of variables in some way.\n",
    "\n",
    "9) Run the appropriate statistical tests where needed.\n",
    "\n",
    "10) What independent variables are correlated with the dependent variable, home value?\n",
    "\n",
    "11) Which independent variables are correlated with other independent variables (bedrooms, bathrooms, year built, square feet)?\n",
    "\n",
    "12) Make sure to document your takeaways from visualizations and statistical tests as well as the decisions you make throughout your process.\n",
    "\n",
    "13) Explore your dataset with any other visualizations you think will be helpful."
   ]
  },
  {
   "cell_type": "code",
   "execution_count": null,
   "metadata": {},
   "outputs": [],
   "source": []
  }
 ],
 "metadata": {
  "language_info": {
   "name": "python"
  },
  "orig_nbformat": 4
 },
 "nbformat": 4,
 "nbformat_minor": 2
}
