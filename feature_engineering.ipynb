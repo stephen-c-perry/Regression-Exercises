{
 "cells": [
  {
   "attachments": {},
   "cell_type": "markdown",
   "metadata": {},
   "source": [
    "Load the tips dataset.\n",
    "\n",
    "Create a column named price_per_person. This should be the total bill divided by the party size.\n",
    "\n",
    "\n",
    "Before using any of the methods discussed in the lesson, which features do you think would be most important for predicting the tip amount?\n",
    "\n",
    "\n",
    "Use select k best to select the top 2 features for predicting tip amount. What are they?\n",
    "\n",
    "\n",
    "Use recursive feature elimination to select the top 2 features for tip amount. What are they?\n",
    "\n",
    "\n",
    "Why do you think select k best and recursive feature elimination might give different answers for the top features? Does this change as you change the number of features you are selecting?\n",
    "\n",
    "\n",
    "Write a function named select_kbest that takes in the predictors (X), the target (y), and the number of features to select (k) and returns the names of the top k selected features based on the SelectKBest class. Test your function with the tips dataset. You should see the same results as when you did the process manually.\n",
    "\n",
    "Write a function named rfe that takes in the predictors, the target, and the number of features to select. It should return the top k features based on the RFE class. Test your function with the tips dataset. You should see the same results as when you did the process manually.\n",
    "\n",
    "Load the swiss dataset and use all the other features to predict Fertility. Find the top 3 features using both select k best and recursive feature elimination (use the functions you just built to help you out)."
   ]
  },
  {
   "cell_type": "code",
   "execution_count": null,
   "metadata": {},
   "outputs": [],
   "source": []
  }
 ],
 "metadata": {
  "language_info": {
   "name": "python"
  },
  "orig_nbformat": 4
 },
 "nbformat": 4,
 "nbformat_minor": 2
}
