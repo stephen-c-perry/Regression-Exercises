{
 "cells": [
  {
   "cell_type": "code",
   "execution_count": 1,
   "metadata": {},
   "outputs": [],
   "source": [
    "import numpy as np\n",
    "import pandas as pd\n",
    "from scipy import stats\n",
    "import sklearn.preprocessing as p\n",
    "from sklearn.model_selection import train_test_split\n",
    "import matplotlib.pyplot as plt\n",
    "import wrangle as w\n",
    "import seaborn as sns\n",
    "\n",
    "import warnings\n",
    "warnings.filterwarnings(\"ignore\")\n",
    "\n",
    "%matplotlib inline"
   ]
  },
  {
   "cell_type": "code",
   "execution_count": 2,
   "metadata": {},
   "outputs": [],
   "source": [
    "train, validate, test = w.wrangle_zillow()"
   ]
  },
  {
   "cell_type": "code",
   "execution_count": 5,
   "metadata": {},
   "outputs": [],
   "source": [
    "#minmaxscaler\n",
    "\n",
    "def scale_zillow(train, validate, test):\n",
    "\n",
    "    train_1 = train.copy()\n",
    "    validate_1 = validate.copy()\n",
    "    test_1 = validate.copy()\n",
    "\n",
    "    scale_cols = ['bedrooms', 'bathrooms', 'area', 'year_built', 'taxamount']\n",
    "    minmax_scaler = p.MinMaxScaler()\n",
    "    minmax_scaler.fit(train_1[scale_cols])\n",
    "    train_1[scale_cols] = minmax_scaler.transform(train[scale_cols])\n",
    "    validate_1 = minmax_scaler.transform(validate[scale_cols])\n",
    "    test_1 = minmax_scaler.transform(test[scale_cols])\n",
    "\n",
    "    df_train_1 = pd.DataFrame(train_1).set_index([train.index.values])\n",
    "    df_validate_1 = pd.DataFrame(validate_1).set_index([validate.index.values])\n",
    "    df_test_1 = pd.DataFrame(test_1).set_index([test.index.values])\n",
    "\n",
    "    return df_train_1, df_validate_1, df_test_1\n"
   ]
  },
  {
   "cell_type": "code",
   "execution_count": 6,
   "metadata": {},
   "outputs": [],
   "source": [
    "train, validate, test  = scale_zillow(train, validate, test)\n"
   ]
  },
  {
   "cell_type": "code",
   "execution_count": 10,
   "metadata": {},
   "outputs": [
    {
     "data": {
      "text/html": [
       "<div>\n",
       "<style scoped>\n",
       "    .dataframe tbody tr th:only-of-type {\n",
       "        vertical-align: middle;\n",
       "    }\n",
       "\n",
       "    .dataframe tbody tr th {\n",
       "        vertical-align: top;\n",
       "    }\n",
       "\n",
       "    .dataframe thead th {\n",
       "        text-align: right;\n",
       "    }\n",
       "</style>\n",
       "<table border=\"1\" class=\"dataframe\">\n",
       "  <thead>\n",
       "    <tr style=\"text-align: right;\">\n",
       "      <th></th>\n",
       "      <th>bedrooms</th>\n",
       "      <th>bathrooms</th>\n",
       "      <th>area</th>\n",
       "      <th>tax_value</th>\n",
       "      <th>year_built</th>\n",
       "      <th>taxamount</th>\n",
       "      <th>fips</th>\n",
       "      <th>propertylandusetypeid</th>\n",
       "    </tr>\n",
       "  </thead>\n",
       "  <tbody>\n",
       "    <tr>\n",
       "      <th>1300070</th>\n",
       "      <td>0.500</td>\n",
       "      <td>0.2500</td>\n",
       "      <td>0.129698</td>\n",
       "      <td>356809.0</td>\n",
       "      <td>0.711628</td>\n",
       "      <td>0.046866</td>\n",
       "      <td>6059.0</td>\n",
       "      <td>261.0</td>\n",
       "    </tr>\n",
       "    <tr>\n",
       "      <th>1452400</th>\n",
       "      <td>0.375</td>\n",
       "      <td>0.2500</td>\n",
       "      <td>0.156259</td>\n",
       "      <td>388535.0</td>\n",
       "      <td>0.776744</td>\n",
       "      <td>0.043288</td>\n",
       "      <td>6059.0</td>\n",
       "      <td>261.0</td>\n",
       "    </tr>\n",
       "    <tr>\n",
       "      <th>1765137</th>\n",
       "      <td>0.625</td>\n",
       "      <td>0.3125</td>\n",
       "      <td>0.249273</td>\n",
       "      <td>370328.0</td>\n",
       "      <td>0.925581</td>\n",
       "      <td>0.047808</td>\n",
       "      <td>6111.0</td>\n",
       "      <td>261.0</td>\n",
       "    </tr>\n",
       "    <tr>\n",
       "      <th>1668212</th>\n",
       "      <td>0.500</td>\n",
       "      <td>0.3125</td>\n",
       "      <td>0.239451</td>\n",
       "      <td>473000.0</td>\n",
       "      <td>0.939535</td>\n",
       "      <td>0.062898</td>\n",
       "      <td>6111.0</td>\n",
       "      <td>261.0</td>\n",
       "    </tr>\n",
       "    <tr>\n",
       "      <th>1670142</th>\n",
       "      <td>0.250</td>\n",
       "      <td>0.1250</td>\n",
       "      <td>0.106345</td>\n",
       "      <td>447299.0</td>\n",
       "      <td>0.637209</td>\n",
       "      <td>0.053982</td>\n",
       "      <td>6037.0</td>\n",
       "      <td>261.0</td>\n",
       "    </tr>\n",
       "  </tbody>\n",
       "</table>\n",
       "</div>"
      ],
      "text/plain": [
       "         bedrooms  bathrooms      area  tax_value  year_built  taxamount  \\\n",
       "1300070     0.500     0.2500  0.129698   356809.0    0.711628   0.046866   \n",
       "1452400     0.375     0.2500  0.156259   388535.0    0.776744   0.043288   \n",
       "1765137     0.625     0.3125  0.249273   370328.0    0.925581   0.047808   \n",
       "1668212     0.500     0.3125  0.239451   473000.0    0.939535   0.062898   \n",
       "1670142     0.250     0.1250  0.106345   447299.0    0.637209   0.053982   \n",
       "\n",
       "           fips  propertylandusetypeid  \n",
       "1300070  6059.0                  261.0  \n",
       "1452400  6059.0                  261.0  \n",
       "1765137  6111.0                  261.0  \n",
       "1668212  6111.0                  261.0  \n",
       "1670142  6037.0                  261.0  "
      ]
     },
     "execution_count": 10,
     "metadata": {},
     "output_type": "execute_result"
    }
   ],
   "source": [
    "train.head()"
   ]
  },
  {
   "cell_type": "code",
   "execution_count": 12,
   "metadata": {},
   "outputs": [
    {
     "name": "stdout",
     "output_type": "stream",
     "text": [
      "<class 'pandas.core.frame.DataFrame'>\n",
      "Int64Index: 1170752 entries, 1300070 to 1635134\n",
      "Data columns (total 8 columns):\n",
      " #   Column                 Non-Null Count    Dtype  \n",
      "---  ------                 --------------    -----  \n",
      " 0   bedrooms               1170752 non-null  float64\n",
      " 1   bathrooms              1170752 non-null  float64\n",
      " 2   area                   1170752 non-null  float64\n",
      " 3   tax_value              1170752 non-null  float64\n",
      " 4   year_built             1170752 non-null  float64\n",
      " 5   taxamount              1170752 non-null  float64\n",
      " 6   fips                   1170752 non-null  float64\n",
      " 7   propertylandusetypeid  1170752 non-null  float64\n",
      "dtypes: float64(8)\n",
      "memory usage: 80.4 MB\n",
      "<class 'pandas.core.frame.DataFrame'>\n",
      "Int64Index: 501752 entries, 1791424 to 544771\n",
      "Data columns (total 5 columns):\n",
      " #   Column  Non-Null Count   Dtype  \n",
      "---  ------  --------------   -----  \n",
      " 0   0       501752 non-null  float64\n",
      " 1   1       501752 non-null  float64\n",
      " 2   2       501752 non-null  float64\n",
      " 3   3       501752 non-null  float64\n",
      " 4   4       501752 non-null  float64\n",
      "dtypes: float64(5)\n",
      "memory usage: 23.0 MB\n",
      "<class 'pandas.core.frame.DataFrame'>\n",
      "Int64Index: 418126 entries, 1082741 to 392722\n",
      "Data columns (total 5 columns):\n",
      " #   Column  Non-Null Count   Dtype  \n",
      "---  ------  --------------   -----  \n",
      " 0   0       418126 non-null  float64\n",
      " 1   1       418126 non-null  float64\n",
      " 2   2       418126 non-null  float64\n",
      " 3   3       418126 non-null  float64\n",
      " 4   4       418126 non-null  float64\n",
      "dtypes: float64(5)\n",
      "memory usage: 19.1 MB\n"
     ]
    },
    {
     "data": {
      "text/plain": [
       "(None, None, None)"
      ]
     },
     "execution_count": 12,
     "metadata": {},
     "output_type": "execute_result"
    }
   ],
   "source": [
    "train.info(), validate.info(), test.info()"
   ]
  },
  {
   "cell_type": "code",
   "execution_count": null,
   "metadata": {},
   "outputs": [],
   "source": []
  }
 ],
 "metadata": {
  "kernelspec": {
   "display_name": "base",
   "language": "python",
   "name": "python3"
  },
  "language_info": {
   "codemirror_mode": {
    "name": "ipython",
    "version": 3
   },
   "file_extension": ".py",
   "mimetype": "text/x-python",
   "name": "python",
   "nbconvert_exporter": "python",
   "pygments_lexer": "ipython3",
   "version": "3.9.13"
  },
  "orig_nbformat": 4,
  "vscode": {
   "interpreter": {
    "hash": "38cca0c38332a56087b24af0bc80247f4fced29cb4f7f437d91dc159adec9c4e"
   }
  }
 },
 "nbformat": 4,
 "nbformat_minor": 2
}
